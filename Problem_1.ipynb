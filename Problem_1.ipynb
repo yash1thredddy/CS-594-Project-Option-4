{
 "cells": [
  {
   "cell_type": "markdown",
   "metadata": {},
   "source": [
    "# CS 594 Project Code Analysis\n",
    "<h3>Hemanth Srinivas Reddy Chennur</h3> \n",
    "<h3>Adithya Reddy Chidirala</h3>\n",
    "<h3>Yashwanth Reddy Dasari Reddy</h3>"
   ]
  },
  {
   "cell_type": "markdown",
   "metadata": {},
   "source": [
    "<h4>Problem 1: [25 points]</h4>\r\n",
    "Implement the quad-tree (not the compressed one) we have seen in class for the approximat \r\n",
    "nearest neighbor queries. Your quad-tree should work in any dimension. Let Dquad be t  \r\n",
    "quad tree data structure.\r\n",
    "\r\n",
    "In Dataset you will find a set of points (please copy paste it into a txt file in your mach e). \r\n",
    "Your code should read this file line by line containing a set P of n points. The firs line \r\n",
    "contains the dimension d, and every other line contains a tuple x₁, x₂, ..., xd that reprsents \r\n",
    "the point x ∈ Rᵈ with coordinates x₁, ..., xd. Your implementation should const ct the \r\n",
    "quadtree for ANN queries (as we have seen in class) over the set of points P. Reort the \r\n",
    "construction time. What is the spread of the point set? What is the height of he tree? \r\n",
    "Describe the relation between the spread and the height of the tree. of the tree."
   ]
  },
  {
   "cell_type": "code",
   "execution_count": 1,
   "metadata": {},
   "outputs": [],
   "source": [
    "#Question 1\n",
    "import numpy as np\n",
    "import time\n",
    "\n",
    "class QuadNode:\n",
    "    def __init__(self, center, width):\n",
    "        self.center = center\n",
    "        self.width = width\n",
    "        self.point = None\n",
    "        self.children = None\n",
    "\n",
    "    def is_leaf(self):\n",
    "        return self.children is None\n",
    "\n"
   ]
  },
  {
   "cell_type": "code",
   "execution_count": 2,
   "metadata": {},
   "outputs": [],
   "source": [
    "class QuadTree:\n",
    "    def __init__(self, points):\n",
    "        self.points = points\n",
    "        self.dim = points.shape[1]\n",
    "\n",
    "        self.min_coords = np.min(points, axis=0)\n",
    "        self.max_coords = np.max(points, axis=0)\n",
    "\n",
    "        self.center = (self.min_coords + self.max_coords) / 2\n",
    "        self.width = np.max(self.max_coords - self.min_coords) / 2\n",
    "\n",
    "        start = time.time()\n",
    "        self.root = self.build_tree(points, self.center, self.width)\n",
    "        self.build_time = time.time() - start\n",
    "\n",
    "        self.height = self.get_height(self.root)\n",
    "        self.spread = self.get_spread()\n",
    "\n",
    "    def build_tree(self, points, center, width):\n",
    "        node = QuadNode(center, width)\n",
    "\n",
    "        if len(points) == 0:\n",
    "            return node\n",
    "        if len(points) == 1:\n",
    "            node.point = points[0]\n",
    "            return node\n",
    "\n",
    "        node.children = []\n",
    "        for i in range(2 ** self.dim):\n",
    "            child_center = center.copy()\n",
    "            for d in range(self.dim):\n",
    "                child_center[d] += width/2 if i & (1 << d) else -width/2\n",
    "\n",
    "            mask = np.ones(len(points), dtype=bool)\n",
    "            for d in range(self.dim):\n",
    "                mask &= points[:, d] >= center[d] if i & (1 << d) else points[:, d] < center[d]\n",
    "\n",
    "            child_points = points[mask]\n",
    "            node.children.append(self.build_tree(child_points, child_center, width/2))\n",
    "\n",
    "        return node\n",
    "\n",
    "    def get_height(self, node):\n",
    "        if node.is_leaf():\n",
    "            return 0\n",
    "        return 1 + max(self.get_height(child) for child in node.children)\n",
    "\n",
    "    def get_spread(self):\n",
    "        min_dist = float('inf')\n",
    "        max_dist = 0\n",
    "\n",
    "        for i in range(len(self.points)):\n",
    "            for j in range(i+1, len(self.points)):\n",
    "                dist = np.linalg.norm(self.points[i] - self.points[j])\n",
    "                min_dist = min(min_dist, dist)\n",
    "                max_dist = max(max_dist, dist)\n",
    "\n",
    "        return max_dist / min_dist if min_dist > 0 else float('inf')\n",
    "\n"
   ]
  },
  {
   "cell_type": "code",
   "execution_count": 6,
   "metadata": {},
   "outputs": [],
   "source": [
    "def read_points(filename):\n",
    "    points = []\n",
    "    with open(filename, encoding='utf-8-sig') as f:  # utf-8-sig handles the BOM character\n",
    "        for line in f:\n",
    "            coords = [float(x) for x in line.strip().split(',')]\n",
    "            points.append(coords)\n",
    "    return np.array(points)"
   ]
  },
  {
   "cell_type": "code",
   "execution_count": 7,
   "metadata": {},
   "outputs": [
    {
     "name": "stdout",
     "output_type": "stream",
     "text": [
      "Time to build tree: 0.505 seconds\n",
      "Height of tree: 13\n",
      "Spread of points: 15550.61\n"
     ]
    }
   ],
   "source": [
    "points = read_points('Pquad.txt')\n",
    "tree = QuadTree(points)\n",
    "\n",
    "print(f\"Time to build tree: {tree.build_time:.3f} seconds\")\n",
    "print(f\"Height of tree: {tree.height}\")\n",
    "print(f\"Spread of points: {tree.spread:.2f}\")"
   ]
  },
  {
   "cell_type": "markdown",
   "metadata": {},
   "source": []
  },
  {
   "cell_type": "code",
   "execution_count": null,
   "metadata": {},
   "outputs": [],
   "source": []
  }
 ],
 "metadata": {
  "kernelspec": {
   "display_name": "Python 3 (ipykernel)",
   "language": "python",
   "name": "python3"
  },
  "language_info": {
   "codemirror_mode": {
    "name": "ipython",
    "version": 3
   },
   "file_extension": ".py",
   "mimetype": "text/x-python",
   "name": "python",
   "nbconvert_exporter": "python",
   "pygments_lexer": "ipython3",
   "version": "3.11.5"
  }
 },
 "nbformat": 4,
 "nbformat_minor": 4
}
